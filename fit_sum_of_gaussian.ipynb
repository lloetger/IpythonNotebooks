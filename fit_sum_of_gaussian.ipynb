{
 "metadata": {
  "name": ""
 },
 "nbformat": 3,
 "nbformat_minor": 0,
 "worksheets": [
  {
   "cells": [
    {
     "cell_type": "code",
     "collapsed": false,
     "input": [
      "# configuration\n",
      "\n",
      "from lmfit import minimize, Parameters\n",
      "import numpy as np\n",
      "import numpy.random as nr\n",
      "import matplotlib.pyplot as plt\n",
      "%matplotlib inline\n",
      "import math\n",
      "pi=math.pi\n"
     ],
     "language": "python",
     "metadata": {},
     "outputs": [
      {
       "output_type": "stream",
       "stream": "stderr",
       "text": [
        "/usr/local/lib/python2.7/dist-packages/lmfit/ui/__init__.py:23: UserWarning: lmfit.Fitter will use basic mode, not IPython: need IPython2.\n",
        "  warnings.warn(_ipy_msg1)\n"
       ]
      }
     ],
     "prompt_number": 1
    },
    {
     "cell_type": "code",
     "collapsed": false,
     "input": [
      "# define residual function\n",
      "\n",
      "def residual(params, I, data):\n",
      "    amp_tissue = params['amp_tissue'].value\n",
      "    int_tissue = params['int_tissue'].value\n",
      "    sigma_tissue = params['sigma_tissue'].value\n",
      "    \n",
      "    amp_lc = params['amp_lc'].value\n",
      "    int_lc = params['int_lc'].value\n",
      "    sigma_lc = params['sigma_lc'].value\n",
      "    \n",
      "    model = amp_tissue*np.exp(-(I-int_tissue)**2/(2*sigma_tissue**2))+amp_lc*np.exp(-(I-int_lc)**2/(2*sigma_lc**2))\n",
      "\n",
      "    return (data-model)"
     ],
     "language": "python",
     "metadata": {},
     "outputs": [],
     "prompt_number": 2
    },
    {
     "cell_type": "code",
     "collapsed": false,
     "input": [
      "# initial parameters\n",
      "\n",
      "params = Parameters()\n",
      "params.add('amp_tissue', value=140)\n",
      "params.add('int_tissue', value=145)\n",
      "params.add('sigma_tissue', value=20)\n",
      "params.add('amp_lc', value=20)\n",
      "params.add('int_lc', value=170,min=params['int_tissue'])\n",
      "params.add('sigma_lc', value=3.0)\n"
     ],
     "language": "python",
     "metadata": {},
     "outputs": [],
     "prompt_number": 3
    },
    {
     "cell_type": "code",
     "collapsed": false,
     "input": [
      "# generate test data\n",
      "\n",
      "I=np.linspace(1,200,num=200)\n",
      "\n",
      "amp_tissue=200\n",
      "int_tissue=140\n",
      "sigma_tissue=15\n",
      "\n",
      "amp_lc=20\n",
      "int_lc=170\n",
      "sigma_lc=4\n",
      "\n",
      "data=amp_tissue*np.exp(-(I-int_tissue)**2/(2*sigma_tissue**2))+amp_lc*np.exp(-(I-int_lc)**2/(2*sigma_lc**2))+10*nr.rand(200)\n",
      "\n",
      "plt.plot(I,data,'k')\n",
      "plt.show()"
     ],
     "language": "python",
     "metadata": {},
     "outputs": [
      {
       "metadata": {},
       "output_type": "display_data",
       "png": "[encoded data removed]",
       "text": [
        "<matplotlib.figure.Figure at 0x7f7c5fb5fa10>"
       ]
      }
     ],
     "prompt_number": 4
    },
    {
     "cell_type": "code",
     "collapsed": false,
     "input": [
      "# find paramters to minimize linear model\n",
      "\n",
      "out = minimize(residual, params,'leastsq', args=(I, data))"
     ],
     "language": "python",
     "metadata": {},
     "outputs": [],
     "prompt_number": 5
    },
    {
     "cell_type": "code",
     "collapsed": false,
     "input": [
      "# print parameters retrieved from linear model\n",
      "print out.params['amp_tissue']\n",
      "print out.params['int_tissue']\n",
      "print out.params['sigma_tissue']\n",
      "print out.params['amp_lc']\n",
      "print out.params['int_lc']\n",
      "print out.params['sigma_lc']"
     ],
     "language": "python",
     "metadata": {},
     "outputs": [
      {
       "output_type": "stream",
       "stream": "stdout",
       "text": [
        "<Parameter 'amp_tissue', value=203.57276357889671 +/- 1.13, bounds=[-inf:inf]>\n",
        "<Parameter 'int_tissue', value=139.83068388684643 +/- 0.114, bounds=[-inf:inf]>\n",
        "<Parameter 'sigma_tissue', value=15.387555072968818 +/- 0.128, bounds=[-inf:inf]>\n",
        "<Parameter 'amp_lc', value=22.013067918613935 +/- 2.12, bounds=[-inf:inf]>\n",
        "<Parameter 'int_lc', value=170.37224374736672 +/- 0.498, bounds=[<Parameter 'int_tissue', value=139.83068388684643 +/- 0.114, bounds=[-inf:inf]>:inf]>\n",
        "<Parameter 'sigma_lc', value=4.7395848346757949 +/- 0.566, bounds=[-inf:inf]>\n"
       ]
      }
     ],
     "prompt_number": 6
    },
    {
     "cell_type": "code",
     "collapsed": false,
     "input": [
      "out.params['int_tissue'].value"
     ],
     "language": "python",
     "metadata": {},
     "outputs": [
      {
       "metadata": {},
       "output_type": "pyout",
       "prompt_number": 7,
       "text": [
        "139.83068388684643"
       ]
      }
     ],
     "prompt_number": 7
    },
    {
     "cell_type": "code",
     "collapsed": false,
     "input": [
      "out_data=out.params['amp_tissue'].value*np.exp(-(I-out.params['int_tissue'].value)**2/(2*out.params['sigma_tissue'].value**2))+out.params['amp_lc'].value*np.exp(-(I-out.params['int_lc'].value)**2/(2*out.params['sigma_lc'].value**2))\n",
      "\n",
      "plt.plot(I,out_data,'k')\n",
      "plt.show()"
     ],
     "language": "python",
     "metadata": {},
     "outputs": [
      {
       "metadata": {},
       "output_type": "display_data",
       "png": "[encoded data removed]",
       "text": [
        "<matplotlib.figure.Figure at 0x7f7c5f9eb690>"
       ]
      }
     ],
     "prompt_number": 8
    }
   ],
   "metadata": {}
  }
 ]
}